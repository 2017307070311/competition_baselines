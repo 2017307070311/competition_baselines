{
 "cells": [
  {
   "cell_type": "code",
   "execution_count": 1,
   "metadata": {},
   "outputs": [
    {
     "name": "stderr",
     "output_type": "stream",
     "text": [
      "wandb: WARNING W&B installed but not logged in.  Run `wandb login` or set the WANDB_API_KEY env variable.\n"
     ]
    }
   ],
   "source": [
    "import warnings\n",
    "warnings.simplefilter('ignore')\n",
    "\n",
    "import re\n",
    "\n",
    "import numpy as np\n",
    "import pandas as pd\n",
    "pd.set_option('max_rows', 100)\n",
    "\n",
    "from tqdm import tqdm\n",
    "tqdm.pandas()\n",
    "\n",
    "from simpletransformers.ner import NERModel, NERArgs"
   ]
  },
  {
   "cell_type": "markdown",
   "metadata": {},
   "source": [
    "# 文本清洗"
   ]
  },
  {
   "cell_type": "code",
   "execution_count": 2,
   "metadata": {},
   "outputs": [
    {
     "name": "stdout",
     "output_type": "stream",
     "text": [
      "'raw_data/bmes_train.json' -> 'raw_data/bmes_train_corrected.json'\r\n"
     ]
    }
   ],
   "source": [
    "!cp -v 'raw_data/bmes_train.json' 'raw_data/bmes_train_corrected.json' \n",
    "\n",
    "# 这四个是多了中括号\n",
    "!sed -i 's/二河闸\\[/二河闸/' 'raw_data/bmes_train_corrected.json'\n",
    "!sed -i 's/克州\\[/克州/' 'raw_data/bmes_train_corrected.json'\n",
    "!sed -i 's/流域\\[/流域/' 'raw_data/bmes_train_corrected.json'\n",
    "!sed -i 's/徐水\\[-/徐水-/' 'raw_data/bmes_train_corrected.json'\n",
    "\n",
    "# 这些不规范 :(\n",
    "!sed -i 's/#河流\\*\\]//' 'raw_data/bmes_train_corrected.json'\n",
    "!sed -i 's/岳西县#地区\\*，经\\[@/岳西县#地区*[@]，经/' 'raw_data/bmes_train_corrected.json'\n",
    "!sed -i 's/\\[@姜明/[@]姜明/' 'raw_data/bmes_train_corrected.json'\n",
    "!sed -i 's/义和村#地区\\*，全\\[@/义和村#地区*[@]，全[@]/' 'raw_data/bmes_train_corrected.json'\n",
    "!sed -i 's/，全\\[@\\]/，全/' 'raw_data/bmes_train_corrected.json'\n",
    "!sed -i 's/幸福乡苇子沟#地区\\*，经动力区\\[@黎明乡、/幸福乡苇子沟，经动力区黎明乡、/' 'raw_data/bmes_train_corrected.json'\n",
    "!sed -i 's/苇子沟#地区\\*，经动力区\\[@黎明乡-LOC/苇子沟-LOC\", \"黎明乡-LOC/' 'raw_data/bmes_train_corrected.json'\n",
    "!sed -i 's/遂城镇#地区\\*\\]/遂城镇/' 'raw_data/bmes_train_corrected.json'"
   ]
  },
  {
   "cell_type": "code",
   "execution_count": 3,
   "metadata": {},
   "outputs": [],
   "source": [
    "label_map = {\n",
    "    '河流': 'RIV',\n",
    "    '地区': 'LOC',\n",
    "    '水库': 'RES',\n",
    "    '水利术语': 'TER',\n",
    "}\n",
    "\n",
    "\n",
    "with open('raw_data/bmes_train_corrected.json') as f:\n",
    "    lines = f.read().split('\\n')\n",
    "    \n",
    "\n",
    "correct_lines = list()\n",
    "\n",
    "for line in lines:\n",
    "    if re.search('\"text\":', line):  # 文本\n",
    "        line = re.sub(r'#[^\\*]+\\*\\[@\\]', '', line)\n",
    "        \n",
    "    if re.search(r'^\\s+\"[^a-z]+', line):   # 标签\n",
    "        line = line.replace('*[@]', '\",\"')\n",
    "        line = line.replace('#', '-')\n",
    "        for label in label_map.keys():\n",
    "            line = line.replace(label, label_map[label]) \n",
    "    \n",
    "    correct_lines.append(line)\n",
    "    \n",
    "    \n",
    "with open('raw_data/bmes_train_corrected.json', 'w') as f:\n",
    "    f.write(\"\\n\".join(correct_lines))"
   ]
  },
  {
   "cell_type": "markdown",
   "metadata": {},
   "source": [
    "# 文本预处理"
   ]
  },
  {
   "cell_type": "code",
   "execution_count": 4,
   "metadata": {},
   "outputs": [
    {
     "data": {
      "text/html": [
       "<div>\n",
       "<style scoped>\n",
       "    .dataframe tbody tr th:only-of-type {\n",
       "        vertical-align: middle;\n",
       "    }\n",
       "\n",
       "    .dataframe tbody tr th {\n",
       "        vertical-align: top;\n",
       "    }\n",
       "\n",
       "    .dataframe thead th {\n",
       "        text-align: right;\n",
       "    }\n",
       "</style>\n",
       "<table border=\"1\" class=\"dataframe\">\n",
       "  <thead>\n",
       "    <tr style=\"text-align: right;\">\n",
       "      <th></th>\n",
       "      <th>id</th>\n",
       "      <th>text</th>\n",
       "      <th>entities</th>\n",
       "    </tr>\n",
       "  </thead>\n",
       "  <tbody>\n",
       "    <tr>\n",
       "      <th>0</th>\n",
       "      <td>train_0</td>\n",
       "      <td>1976年冬，配合兴建涡河闸水利工程，开挖了涡河引河，全长1.2公里。</td>\n",
       "      <td>[涡河-RIV]</td>\n",
       "    </tr>\n",
       "    <tr>\n",
       "      <th>1</th>\n",
       "      <td>train_1</td>\n",
       "      <td>宋代，甓社湖曾现珠光（河蚌珠光），并为在甓社湖居室临窗夜读的著名学者孙觉亲眼所见，被其好友沈...</td>\n",
       "      <td>[珠湖-LAK, 高邮湖-LAK, 甓社湖-LAK]</td>\n",
       "    </tr>\n",
       "    <tr>\n",
       "      <th>2</th>\n",
       "      <td>train_2</td>\n",
       "      <td>2008年5月10日上午，山东省第五座跨黄河大桥，黄河首座———济南建邦黄河大桥在济南西外环...</td>\n",
       "      <td>[黄河-RIV, 济南-LOC, 山东省-LOC]</td>\n",
       "    </tr>\n",
       "    <tr>\n",
       "      <th>3</th>\n",
       "      <td>train_3</td>\n",
       "      <td>学校曾获国家及省市级“职业教育先进单位”称号，是全国计算机应用技术考试培训基地（NIT），安...</td>\n",
       "      <td>[安徽省-LOC, 太湖县-LOC]</td>\n",
       "    </tr>\n",
       "    <tr>\n",
       "      <th>4</th>\n",
       "      <td>train_4</td>\n",
       "      <td>东西两源汇合后，进入平原区，北流经过石埠嘴、船涨埠，至白洋淀后进入瓦埠湖。</td>\n",
       "      <td>[白洋淀-LAK, 瓦埠湖-LAK]</td>\n",
       "    </tr>\n",
       "  </tbody>\n",
       "</table>\n",
       "</div>"
      ],
      "text/plain": [
       "        id                                               text  \\\n",
       "0  train_0                1976年冬，配合兴建涡河闸水利工程，开挖了涡河引河，全长1.2公里。   \n",
       "1  train_1  宋代，甓社湖曾现珠光（河蚌珠光），并为在甓社湖居室临窗夜读的著名学者孙觉亲眼所见，被其好友沈...   \n",
       "2  train_2  2008年5月10日上午，山东省第五座跨黄河大桥，黄河首座———济南建邦黄河大桥在济南西外环...   \n",
       "3  train_3  学校曾获国家及省市级“职业教育先进单位”称号，是全国计算机应用技术考试培训基地（NIT），安...   \n",
       "4  train_4              东西两源汇合后，进入平原区，北流经过石埠嘴、船涨埠，至白洋淀后进入瓦埠湖。   \n",
       "\n",
       "                     entities  \n",
       "0                    [涡河-RIV]  \n",
       "1  [珠湖-LAK, 高邮湖-LAK, 甓社湖-LAK]  \n",
       "2   [黄河-RIV, 济南-LOC, 山东省-LOC]  \n",
       "3          [安徽省-LOC, 太湖县-LOC]  \n",
       "4          [白洋淀-LAK, 瓦埠湖-LAK]  "
      ]
     },
     "execution_count": 4,
     "metadata": {},
     "output_type": "execute_result"
    }
   ],
   "source": [
    "train = pd.read_json('raw_data/bmes_train_corrected.json')\n",
    "train.head()"
   ]
  },
  {
   "cell_type": "code",
   "execution_count": 5,
   "metadata": {},
   "outputs": [
    {
     "name": "stderr",
     "output_type": "stream",
     "text": [
      "4919it [00:01, 3172.96it/s]\n"
     ]
    }
   ],
   "source": [
    "train_data = list()\n",
    "\n",
    "for i, row in tqdm(train.iterrows()):\n",
    "    entities = row['entities']\n",
    "    text = row['text']\n",
    "    id_list = [i] * len(text)\n",
    "    label_list = [\"O\"] * len(text)\n",
    "    for entity in entities:\n",
    "        name, label = entity.split('-')\n",
    "        for m in re.finditer(name, text):     # 找到字符串的起始位置和它们所属的标签\n",
    "            start = m.start()\n",
    "            end = m.end()\n",
    "            label_list[start] = f'B_{label}'\n",
    "            for i in range(start+1, end):\n",
    "                label_list[i] = f'I_{label}'\n",
    "    train_data.extend(zip(id_list, text, label_list))"
   ]
  },
  {
   "cell_type": "code",
   "execution_count": 6,
   "metadata": {},
   "outputs": [
    {
     "data": {
      "text/html": [
       "<div>\n",
       "<style scoped>\n",
       "    .dataframe tbody tr th:only-of-type {\n",
       "        vertical-align: middle;\n",
       "    }\n",
       "\n",
       "    .dataframe tbody tr th {\n",
       "        vertical-align: top;\n",
       "    }\n",
       "\n",
       "    .dataframe thead th {\n",
       "        text-align: right;\n",
       "    }\n",
       "</style>\n",
       "<table border=\"1\" class=\"dataframe\">\n",
       "  <thead>\n",
       "    <tr style=\"text-align: right;\">\n",
       "      <th></th>\n",
       "      <th>sentence_id</th>\n",
       "      <th>words</th>\n",
       "      <th>labels</th>\n",
       "    </tr>\n",
       "  </thead>\n",
       "  <tbody>\n",
       "    <tr>\n",
       "      <th>0</th>\n",
       "      <td>0</td>\n",
       "      <td>1</td>\n",
       "      <td>O</td>\n",
       "    </tr>\n",
       "    <tr>\n",
       "      <th>1</th>\n",
       "      <td>0</td>\n",
       "      <td>9</td>\n",
       "      <td>O</td>\n",
       "    </tr>\n",
       "    <tr>\n",
       "      <th>2</th>\n",
       "      <td>0</td>\n",
       "      <td>7</td>\n",
       "      <td>O</td>\n",
       "    </tr>\n",
       "    <tr>\n",
       "      <th>3</th>\n",
       "      <td>0</td>\n",
       "      <td>6</td>\n",
       "      <td>O</td>\n",
       "    </tr>\n",
       "    <tr>\n",
       "      <th>4</th>\n",
       "      <td>0</td>\n",
       "      <td>年</td>\n",
       "      <td>O</td>\n",
       "    </tr>\n",
       "    <tr>\n",
       "      <th>5</th>\n",
       "      <td>0</td>\n",
       "      <td>冬</td>\n",
       "      <td>O</td>\n",
       "    </tr>\n",
       "    <tr>\n",
       "      <th>6</th>\n",
       "      <td>0</td>\n",
       "      <td>，</td>\n",
       "      <td>O</td>\n",
       "    </tr>\n",
       "    <tr>\n",
       "      <th>7</th>\n",
       "      <td>0</td>\n",
       "      <td>配</td>\n",
       "      <td>O</td>\n",
       "    </tr>\n",
       "    <tr>\n",
       "      <th>8</th>\n",
       "      <td>0</td>\n",
       "      <td>合</td>\n",
       "      <td>O</td>\n",
       "    </tr>\n",
       "    <tr>\n",
       "      <th>9</th>\n",
       "      <td>0</td>\n",
       "      <td>兴</td>\n",
       "      <td>O</td>\n",
       "    </tr>\n",
       "  </tbody>\n",
       "</table>\n",
       "</div>"
      ],
      "text/plain": [
       "   sentence_id words labels\n",
       "0            0     1      O\n",
       "1            0     9      O\n",
       "2            0     7      O\n",
       "3            0     6      O\n",
       "4            0     年      O\n",
       "5            0     冬      O\n",
       "6            0     ，      O\n",
       "7            0     配      O\n",
       "8            0     合      O\n",
       "9            0     兴      O"
      ]
     },
     "execution_count": 6,
     "metadata": {},
     "output_type": "execute_result"
    }
   ],
   "source": [
    "train_data = pd.DataFrame(\n",
    "    train_data, columns=[\"sentence_id\", \"words\", \"labels\"]\n",
    ")\n",
    "\n",
    "train_data.head(10)"
   ]
  },
  {
   "cell_type": "code",
   "execution_count": 7,
   "metadata": {},
   "outputs": [
    {
     "name": "stdout",
     "output_type": "stream",
     "text": [
      "(263624, 3) 4919\n",
      "(212998, 3) (50626, 3)\n"
     ]
    }
   ],
   "source": [
    "print(train_data.shape, train_data.sentence_id.nunique())\n",
    "\n",
    "fold = 0\n",
    "eval_data = train_data[train_data['sentence_id'] % 5 == fold]\n",
    "train_data = train_data[train_data['sentence_id'] % 5 != fold]\n",
    "\n",
    "print(train_data.shape, eval_data.shape)"
   ]
  },
  {
   "cell_type": "markdown",
   "metadata": {},
   "source": [
    "# 模型训练"
   ]
  },
  {
   "cell_type": "code",
   "execution_count": 8,
   "metadata": {},
   "outputs": [],
   "source": [
    "model_args = NERArgs()\n",
    "model_args.train_batch_size = 8\n",
    "model_args.num_train_epochs = 5\n",
    "model_args.fp16 = False\n",
    "model_args.evaluate_during_training = True\n",
    "model_args.overwrite_output_dir = True\n",
    "model_args.save_steps = -1\n",
    "model_args.save_eval_checkpoints = False"
   ]
  },
  {
   "cell_type": "code",
   "execution_count": 9,
   "metadata": {},
   "outputs": [
    {
     "name": "stderr",
     "output_type": "stream",
     "text": [
      "Some weights of the model checkpoint at hfl/chinese-roberta-wwm-ext were not used when initializing BertForTokenClassification: ['cls.predictions.bias', 'cls.predictions.transform.dense.weight', 'cls.predictions.transform.dense.bias', 'cls.predictions.transform.LayerNorm.weight', 'cls.predictions.transform.LayerNorm.bias', 'cls.predictions.decoder.weight', 'cls.seq_relationship.weight', 'cls.seq_relationship.bias']\n",
      "- This IS expected if you are initializing BertForTokenClassification from the checkpoint of a model trained on another task or with another architecture (e.g. initializing a BertForSequenceClassification model from a BertForPretraining model).\n",
      "- This IS NOT expected if you are initializing BertForTokenClassification from the checkpoint of a model that you expect to be exactly identical (initializing a BertForSequenceClassification model from a BertForSequenceClassification model).\n",
      "Some weights of BertForTokenClassification were not initialized from the model checkpoint at hfl/chinese-roberta-wwm-ext and are newly initialized: ['classifier.weight', 'classifier.bias']\n",
      "You should probably TRAIN this model on a down-stream task to be able to use it for predictions and inference.\n"
     ]
    }
   ],
   "source": [
    "model = NERModel(\"bert\", \n",
    "                 \"hfl/chinese-roberta-wwm-ext\",\n",
    "                 labels=train_data.labels.unique().tolist(),\n",
    "                 args=model_args)"
   ]
  },
  {
   "cell_type": "code",
   "execution_count": 10,
   "metadata": {
    "scrolled": false
   },
   "outputs": [
    {
     "data": {
      "application/vnd.jupyter.widget-view+json": {
       "model_id": "b1ad591e4b5446c3bfcccb335a5c0d89",
       "version_major": 2,
       "version_minor": 0
      },
      "text/plain": [
       "HBox(children=(FloatProgress(value=0.0, max=3935.0), HTML(value='')))"
      ]
     },
     "metadata": {},
     "output_type": "display_data"
    },
    {
     "name": "stdout",
     "output_type": "stream",
     "text": [
      "\n"
     ]
    },
    {
     "data": {
      "application/vnd.jupyter.widget-view+json": {
       "model_id": "cf49f048b1a742579debd8f0ada06cf6",
       "version_major": 2,
       "version_minor": 0
      },
      "text/plain": [
       "HBox(children=(FloatProgress(value=0.0, description='Epoch', max=5.0, style=ProgressStyle(description_width='i…"
      ]
     },
     "metadata": {},
     "output_type": "display_data"
    },
    {
     "data": {
      "application/vnd.jupyter.widget-view+json": {
       "model_id": "fa02cf714b114ccaa0e361f610383267",
       "version_major": 2,
       "version_minor": 0
      },
      "text/plain": [
       "HBox(children=(FloatProgress(value=0.0, description='Running Epoch 0 of 5', max=492.0, style=ProgressStyle(des…"
      ]
     },
     "metadata": {},
     "output_type": "display_data"
    },
    {
     "name": "stdout",
     "output_type": "stream",
     "text": [
      "\n"
     ]
    },
    {
     "data": {
      "application/vnd.jupyter.widget-view+json": {
       "model_id": "e9e338be89374cac9156303c0b600a5b",
       "version_major": 2,
       "version_minor": 0
      },
      "text/plain": [
       "HBox(children=(FloatProgress(value=0.0, max=984.0), HTML(value='')))"
      ]
     },
     "metadata": {},
     "output_type": "display_data"
    },
    {
     "name": "stdout",
     "output_type": "stream",
     "text": [
      "\n"
     ]
    },
    {
     "data": {
      "application/vnd.jupyter.widget-view+json": {
       "model_id": "ee1ad6ce2ca4478697eb332548a19d0c",
       "version_major": 2,
       "version_minor": 0
      },
      "text/plain": [
       "HBox(children=(FloatProgress(value=0.0, description='Running Evaluation', max=123.0, style=ProgressStyle(descr…"
      ]
     },
     "metadata": {},
     "output_type": "display_data"
    },
    {
     "name": "stdout",
     "output_type": "stream",
     "text": [
      "\n"
     ]
    },
    {
     "data": {
      "application/vnd.jupyter.widget-view+json": {
       "model_id": "db1f659a94c546079a236433f3b12e7e",
       "version_major": 2,
       "version_minor": 0
      },
      "text/plain": [
       "HBox(children=(FloatProgress(value=0.0, description='Running Epoch 1 of 5', max=492.0, style=ProgressStyle(des…"
      ]
     },
     "metadata": {},
     "output_type": "display_data"
    },
    {
     "name": "stdout",
     "output_type": "stream",
     "text": [
      "\n"
     ]
    },
    {
     "data": {
      "application/vnd.jupyter.widget-view+json": {
       "model_id": "474f21bf0be54dd892409bbedaef60b6",
       "version_major": 2,
       "version_minor": 0
      },
      "text/plain": [
       "HBox(children=(FloatProgress(value=0.0, max=984.0), HTML(value='')))"
      ]
     },
     "metadata": {},
     "output_type": "display_data"
    },
    {
     "name": "stdout",
     "output_type": "stream",
     "text": [
      "\n"
     ]
    },
    {
     "data": {
      "application/vnd.jupyter.widget-view+json": {
       "model_id": "e9fecc9686b1443abcef4eb9017946a2",
       "version_major": 2,
       "version_minor": 0
      },
      "text/plain": [
       "HBox(children=(FloatProgress(value=0.0, description='Running Evaluation', max=123.0, style=ProgressStyle(descr…"
      ]
     },
     "metadata": {},
     "output_type": "display_data"
    },
    {
     "name": "stdout",
     "output_type": "stream",
     "text": [
      "\n"
     ]
    },
    {
     "data": {
      "application/vnd.jupyter.widget-view+json": {
       "model_id": "158163c8044140ac9877a496bb305c3b",
       "version_major": 2,
       "version_minor": 0
      },
      "text/plain": [
       "HBox(children=(FloatProgress(value=0.0, description='Running Epoch 2 of 5', max=492.0, style=ProgressStyle(des…"
      ]
     },
     "metadata": {},
     "output_type": "display_data"
    },
    {
     "name": "stdout",
     "output_type": "stream",
     "text": [
      "\n"
     ]
    },
    {
     "data": {
      "application/vnd.jupyter.widget-view+json": {
       "model_id": "e651903826154b23a256dccf23ffe718",
       "version_major": 2,
       "version_minor": 0
      },
      "text/plain": [
       "HBox(children=(FloatProgress(value=0.0, max=984.0), HTML(value='')))"
      ]
     },
     "metadata": {},
     "output_type": "display_data"
    },
    {
     "name": "stdout",
     "output_type": "stream",
     "text": [
      "\n"
     ]
    },
    {
     "data": {
      "application/vnd.jupyter.widget-view+json": {
       "model_id": "47fc9abe433b40b3a925d63da56639ca",
       "version_major": 2,
       "version_minor": 0
      },
      "text/plain": [
       "HBox(children=(FloatProgress(value=0.0, description='Running Evaluation', max=123.0, style=ProgressStyle(descr…"
      ]
     },
     "metadata": {},
     "output_type": "display_data"
    },
    {
     "name": "stdout",
     "output_type": "stream",
     "text": [
      "\n"
     ]
    },
    {
     "data": {
      "application/vnd.jupyter.widget-view+json": {
       "model_id": "2e5e9587031f4453b47a9bcab58a1ea2",
       "version_major": 2,
       "version_minor": 0
      },
      "text/plain": [
       "HBox(children=(FloatProgress(value=0.0, description='Running Epoch 3 of 5', max=492.0, style=ProgressStyle(des…"
      ]
     },
     "metadata": {},
     "output_type": "display_data"
    },
    {
     "name": "stdout",
     "output_type": "stream",
     "text": [
      "\n"
     ]
    },
    {
     "data": {
      "application/vnd.jupyter.widget-view+json": {
       "model_id": "9aa2d9c53f544c68b80a204199fb3b1e",
       "version_major": 2,
       "version_minor": 0
      },
      "text/plain": [
       "HBox(children=(FloatProgress(value=0.0, max=984.0), HTML(value='')))"
      ]
     },
     "metadata": {},
     "output_type": "display_data"
    },
    {
     "name": "stdout",
     "output_type": "stream",
     "text": [
      "\n"
     ]
    },
    {
     "data": {
      "application/vnd.jupyter.widget-view+json": {
       "model_id": "d2fb7f2503974a968849269aee060b87",
       "version_major": 2,
       "version_minor": 0
      },
      "text/plain": [
       "HBox(children=(FloatProgress(value=0.0, description='Running Evaluation', max=123.0, style=ProgressStyle(descr…"
      ]
     },
     "metadata": {},
     "output_type": "display_data"
    },
    {
     "name": "stdout",
     "output_type": "stream",
     "text": [
      "\n"
     ]
    },
    {
     "data": {
      "application/vnd.jupyter.widget-view+json": {
       "model_id": "40ff7a194d2448a3a54b48dfffe814d3",
       "version_major": 2,
       "version_minor": 0
      },
      "text/plain": [
       "HBox(children=(FloatProgress(value=0.0, description='Running Epoch 4 of 5', max=492.0, style=ProgressStyle(des…"
      ]
     },
     "metadata": {},
     "output_type": "display_data"
    },
    {
     "data": {
      "application/vnd.jupyter.widget-view+json": {
       "model_id": "13c6778b4dc34442ab74b762350539e8",
       "version_major": 2,
       "version_minor": 0
      },
      "text/plain": [
       "HBox(children=(FloatProgress(value=0.0, max=984.0), HTML(value='')))"
      ]
     },
     "metadata": {},
     "output_type": "display_data"
    },
    {
     "name": "stdout",
     "output_type": "stream",
     "text": [
      "\n"
     ]
    },
    {
     "data": {
      "application/vnd.jupyter.widget-view+json": {
       "model_id": "668a7f70e5e0414baf40441bf754a479",
       "version_major": 2,
       "version_minor": 0
      },
      "text/plain": [
       "HBox(children=(FloatProgress(value=0.0, description='Running Evaluation', max=123.0, style=ProgressStyle(descr…"
      ]
     },
     "metadata": {},
     "output_type": "display_data"
    },
    {
     "name": "stdout",
     "output_type": "stream",
     "text": [
      "\n",
      "\n"
     ]
    },
    {
     "data": {
      "application/vnd.jupyter.widget-view+json": {
       "model_id": "082a2935464b4bf0be6ee0dd80f04955",
       "version_major": 2,
       "version_minor": 0
      },
      "text/plain": [
       "HBox(children=(FloatProgress(value=0.0, max=984.0), HTML(value='')))"
      ]
     },
     "metadata": {},
     "output_type": "display_data"
    },
    {
     "name": "stdout",
     "output_type": "stream",
     "text": [
      "\n"
     ]
    },
    {
     "data": {
      "application/vnd.jupyter.widget-view+json": {
       "model_id": "9e06fd4e29d04dd789b4a3623cef0c00",
       "version_major": 2,
       "version_minor": 0
      },
      "text/plain": [
       "HBox(children=(FloatProgress(value=0.0, description='Running Evaluation', max=123.0, style=ProgressStyle(descr…"
      ]
     },
     "metadata": {},
     "output_type": "display_data"
    },
    {
     "name": "stdout",
     "output_type": "stream",
     "text": [
      "\n",
      "\n"
     ]
    },
    {
     "data": {
      "text/plain": [
       "(2460,\n",
       " {'global_step': [492, 984, 1476, 1968, 2000, 2460],\n",
       "  'precision': [0.7898170653703467,\n",
       "   0.807202216066482,\n",
       "   0.7943289710033359,\n",
       "   0.7687545520757465,\n",
       "   0.7827808015833746,\n",
       "   0.8082791561629296],\n",
       "  'recall': [0.8283912518448947,\n",
       "   0.7819669931571179,\n",
       "   0.8306722125318664,\n",
       "   0.8497249429759828,\n",
       "   0.8490540721856971,\n",
       "   0.8173889708842077],\n",
       "  'f1_score': [0.8086444007858546,\n",
       "   0.7943842431677232,\n",
       "   0.8120941824621236,\n",
       "   0.8072143266840864,\n",
       "   0.814571667632104,\n",
       "   0.8128085390260174],\n",
       "  'train_loss': [0.18138059973716736,\n",
       "   0.27757635712623596,\n",
       "   0.08620598912239075,\n",
       "   0.05298464372754097,\n",
       "   0.04048530012369156,\n",
       "   0.01691601239144802],\n",
       "  'eval_loss': [0.18886737798045322,\n",
       "   0.19881631639914785,\n",
       "   0.22645295347745825,\n",
       "   0.23604097677682473,\n",
       "   0.23877412389691283,\n",
       "   0.253834957150909]})"
      ]
     },
     "execution_count": 10,
     "metadata": {},
     "output_type": "execute_result"
    }
   ],
   "source": [
    "model.train_model(train_data, eval_data=eval_data)"
   ]
  },
  {
   "cell_type": "code",
   "execution_count": 11,
   "metadata": {},
   "outputs": [
    {
     "data": {
      "application/vnd.jupyter.widget-view+json": {
       "model_id": "c2f2e18fc57246709492c2964dc997d4",
       "version_major": 2,
       "version_minor": 0
      },
      "text/plain": [
       "HBox(children=(FloatProgress(value=0.0, max=984.0), HTML(value='')))"
      ]
     },
     "metadata": {},
     "output_type": "display_data"
    },
    {
     "name": "stdout",
     "output_type": "stream",
     "text": [
      "\n"
     ]
    },
    {
     "data": {
      "application/vnd.jupyter.widget-view+json": {
       "model_id": "2e6ccf27d79d445c94421166f211f085",
       "version_major": 2,
       "version_minor": 0
      },
      "text/plain": [
       "HBox(children=(FloatProgress(value=0.0, description='Running Evaluation', max=123.0, style=ProgressStyle(descr…"
      ]
     },
     "metadata": {},
     "output_type": "display_data"
    },
    {
     "name": "stdout",
     "output_type": "stream",
     "text": [
      "\n"
     ]
    },
    {
     "data": {
      "text/plain": [
       "{'eval_loss': 0.253834957150909,\n",
       " 'precision': 0.8082791561629296,\n",
       " 'recall': 0.8173889708842077,\n",
       " 'f1_score': 0.8128085390260174}"
      ]
     },
     "execution_count": 11,
     "metadata": {},
     "output_type": "execute_result"
    }
   ],
   "source": [
    "result, _, _ = model.eval_model(eval_data)\n",
    "result"
   ]
  },
  {
   "cell_type": "markdown",
   "metadata": {},
   "source": [
    "# 模型预测及生成提交文件"
   ]
  },
  {
   "cell_type": "code",
   "execution_count": 12,
   "metadata": {},
   "outputs": [
    {
     "data": {
      "text/html": [
       "<div>\n",
       "<style scoped>\n",
       "    .dataframe tbody tr th:only-of-type {\n",
       "        vertical-align: middle;\n",
       "    }\n",
       "\n",
       "    .dataframe tbody tr th {\n",
       "        vertical-align: top;\n",
       "    }\n",
       "\n",
       "    .dataframe thead th {\n",
       "        text-align: right;\n",
       "    }\n",
       "</style>\n",
       "<table border=\"1\" class=\"dataframe\">\n",
       "  <thead>\n",
       "    <tr style=\"text-align: right;\">\n",
       "      <th></th>\n",
       "      <th>id</th>\n",
       "      <th>text</th>\n",
       "    </tr>\n",
       "  </thead>\n",
       "  <tbody>\n",
       "    <tr>\n",
       "      <th>0</th>\n",
       "      <td>test_0</td>\n",
       "      <td>2013年有1个项目获得国家创新基金，2个项目获国家科技型中小企业创新基金支持，1家民营企业...</td>\n",
       "    </tr>\n",
       "    <tr>\n",
       "      <th>1</th>\n",
       "      <td>test_1</td>\n",
       "      <td>汉江遥堤堤防防洪标准为防御汉江1964年型洪水，堤顶高程按设计洪水位加超高2米确定，面宽10...</td>\n",
       "    </tr>\n",
       "    <tr>\n",
       "      <th>2</th>\n",
       "      <td>test_2</td>\n",
       "      <td>纳支流七里川河后称红岩河，主流经嘴头镇、白云乡、王家凌乡，于王家凌乡之擂鼓滩出本县境入留坝县。</td>\n",
       "    </tr>\n",
       "    <tr>\n",
       "      <th>3</th>\n",
       "      <td>test_3</td>\n",
       "      <td>云山水库，位于七虎林河上游，1958年由复转官兵承建，水库的蓄水量为4750万立方米，控制了...</td>\n",
       "    </tr>\n",
       "    <tr>\n",
       "      <th>4</th>\n",
       "      <td>test_4</td>\n",
       "      <td>武穴正处武山湖深水口古北江遗址上，原称青林湖，古长江九大要穴之一。</td>\n",
       "    </tr>\n",
       "  </tbody>\n",
       "</table>\n",
       "</div>"
      ],
      "text/plain": [
       "       id                                               text\n",
       "0  test_0  2013年有1个项目获得国家创新基金，2个项目获国家科技型中小企业创新基金支持，1家民营企业...\n",
       "1  test_1  汉江遥堤堤防防洪标准为防御汉江1964年型洪水，堤顶高程按设计洪水位加超高2米确定，面宽10...\n",
       "2  test_2    纳支流七里川河后称红岩河，主流经嘴头镇、白云乡、王家凌乡，于王家凌乡之擂鼓滩出本县境入留坝县。\n",
       "3  test_3  云山水库，位于七虎林河上游，1958年由复转官兵承建，水库的蓄水量为4750万立方米，控制了...\n",
       "4  test_4                  武穴正处武山湖深水口古北江遗址上，原称青林湖，古长江九大要穴之一。"
      ]
     },
     "execution_count": 12,
     "metadata": {},
     "output_type": "execute_result"
    }
   ],
   "source": [
    "test = pd.read_json('raw_data/bmes_test.json')\n",
    "test.head()"
   ]
  },
  {
   "cell_type": "code",
   "execution_count": 13,
   "metadata": {},
   "outputs": [
    {
     "name": "stderr",
     "output_type": "stream",
     "text": [
      "628it [00:00, 8885.19it/s]\n"
     ]
    },
    {
     "data": {
      "application/vnd.jupyter.widget-view+json": {
       "model_id": "7a8d3667426a4828893852011859e1d9",
       "version_major": 2,
       "version_minor": 0
      },
      "text/plain": [
       "HBox(children=(FloatProgress(value=0.0, max=628.0), HTML(value='')))"
      ]
     },
     "metadata": {},
     "output_type": "display_data"
    },
    {
     "name": "stdout",
     "output_type": "stream",
     "text": [
      "\n"
     ]
    },
    {
     "data": {
      "application/vnd.jupyter.widget-view+json": {
       "model_id": "10fe37c011e64e3eb4bd1b63e68430c8",
       "version_major": 2,
       "version_minor": 0
      },
      "text/plain": [
       "HBox(children=(FloatProgress(value=0.0, description='Running Prediction', max=79.0, style=ProgressStyle(descri…"
      ]
     },
     "metadata": {},
     "output_type": "display_data"
    },
    {
     "name": "stdout",
     "output_type": "stream",
     "text": [
      "\n"
     ]
    }
   ],
   "source": [
    "test_data = list()\n",
    "\n",
    "for i, row in tqdm(test.iterrows()):\n",
    "    text = row['text']\n",
    "    test_data.append(text)\n",
    "    \n",
    "preds, raw_outputs = model.predict(test_data, split_on_space=False)"
   ]
  },
  {
   "cell_type": "code",
   "execution_count": 14,
   "metadata": {},
   "outputs": [
    {
     "data": {
      "text/html": [
       "<div>\n",
       "<style scoped>\n",
       "    .dataframe tbody tr th:only-of-type {\n",
       "        vertical-align: middle;\n",
       "    }\n",
       "\n",
       "    .dataframe tbody tr th {\n",
       "        vertical-align: top;\n",
       "    }\n",
       "\n",
       "    .dataframe thead th {\n",
       "        text-align: right;\n",
       "    }\n",
       "</style>\n",
       "<table border=\"1\" class=\"dataframe\">\n",
       "  <thead>\n",
       "    <tr style=\"text-align: right;\">\n",
       "      <th></th>\n",
       "      <th>id</th>\n",
       "      <th>entities</th>\n",
       "    </tr>\n",
       "  </thead>\n",
       "  <tbody>\n",
       "    <tr>\n",
       "      <th>0</th>\n",
       "      <td>test_0</td>\n",
       "      <td>[20-LOC, 称号-TER]</td>\n",
       "    </tr>\n",
       "    <tr>\n",
       "      <th>1</th>\n",
       "      <td>test_1</td>\n",
       "      <td>[汉江-LOC, :3-TER]</td>\n",
       "    </tr>\n",
       "    <tr>\n",
       "      <th>2</th>\n",
       "      <td>test_2</td>\n",
       "      <td>[纳支-LOC, 坝县-TER]</td>\n",
       "    </tr>\n",
       "    <tr>\n",
       "      <th>3</th>\n",
       "      <td>test_3</td>\n",
       "      <td>[云山-LOC, 水量-TER]</td>\n",
       "    </tr>\n",
       "    <tr>\n",
       "      <th>4</th>\n",
       "      <td>test_4</td>\n",
       "      <td>[武穴-LOC, 之一-TER]</td>\n",
       "    </tr>\n",
       "  </tbody>\n",
       "</table>\n",
       "</div>"
      ],
      "text/plain": [
       "       id          entities\n",
       "0  test_0  [20-LOC, 称号-TER]\n",
       "1  test_1  [汉江-LOC, :3-TER]\n",
       "2  test_2  [纳支-LOC, 坝县-TER]\n",
       "3  test_3  [云山-LOC, 水量-TER]\n",
       "4  test_4  [武穴-LOC, 之一-TER]"
      ]
     },
     "execution_count": 14,
     "metadata": {},
     "output_type": "execute_result"
    }
   ],
   "source": [
    "sub = pd.read_json('raw_data/bmes_sample.json')\n",
    "sub.head()"
   ]
  },
  {
   "cell_type": "code",
   "execution_count": 15,
   "metadata": {},
   "outputs": [
    {
     "name": "stderr",
     "output_type": "stream",
     "text": [
      "100%|██████████| 628/628 [00:00<00:00, 7089.65it/s]\n"
     ]
    }
   ],
   "source": [
    "final = list()\n",
    "\n",
    "for pred in tqdm(preds):\n",
    "    res_list = list() \n",
    "    for char in pred:\n",
    "        if list(char.values())[0] != 'O':\n",
    "            res_list.extend(zip(char.keys(), char.values()))\n",
    "            chars = [i[0] for i in res_list]\n",
    "            labels = [i[1] for i in res_list]\n",
    "            words = list()\n",
    "            word = ''\n",
    "            for i, label in enumerate(labels):\n",
    "                if label.startswith('B_'):\n",
    "                    if i > 0:\n",
    "                        lbl = labels[i-1].replace('I_', '')\n",
    "                        words.append(f'{word}-{lbl}')\n",
    "                    word = chars[i]\n",
    "                else:\n",
    "                    word += chars[i]\n",
    "                    if i == len(labels) - 1:\n",
    "                        lbl = labels[i].replace('I_', '')\n",
    "                        words.append(f'{word}-{lbl}')\n",
    "            ret = list()\n",
    "            for item in words:\n",
    "                if item not in ret:\n",
    "                    ret.append(item)\n",
    "    final.append(ret)"
   ]
  },
  {
   "cell_type": "code",
   "execution_count": 16,
   "metadata": {},
   "outputs": [
    {
     "data": {
      "text/html": [
       "<div>\n",
       "<style scoped>\n",
       "    .dataframe tbody tr th:only-of-type {\n",
       "        vertical-align: middle;\n",
       "    }\n",
       "\n",
       "    .dataframe tbody tr th {\n",
       "        vertical-align: top;\n",
       "    }\n",
       "\n",
       "    .dataframe thead th {\n",
       "        text-align: right;\n",
       "    }\n",
       "</style>\n",
       "<table border=\"1\" class=\"dataframe\">\n",
       "  <thead>\n",
       "    <tr style=\"text-align: right;\">\n",
       "      <th></th>\n",
       "      <th>id</th>\n",
       "      <th>entities</th>\n",
       "    </tr>\n",
       "  </thead>\n",
       "  <tbody>\n",
       "    <tr>\n",
       "      <th>0</th>\n",
       "      <td>test_0</td>\n",
       "      <td>[临河区-LOC, 巴彦淖尔市-LOC]</td>\n",
       "    </tr>\n",
       "    <tr>\n",
       "      <th>1</th>\n",
       "      <td>test_1</td>\n",
       "      <td>[汉江-RIV]</td>\n",
       "    </tr>\n",
       "    <tr>\n",
       "      <th>2</th>\n",
       "      <td>test_2</td>\n",
       "      <td>[支流-TER, 七里川河-RIV, 红岩河-RIV, 嘴头镇-LOC, 白云乡-LOC, ...</td>\n",
       "    </tr>\n",
       "    <tr>\n",
       "      <th>3</th>\n",
       "      <td>test_3</td>\n",
       "      <td>[七虎林河-RIV, 上游-TER]</td>\n",
       "    </tr>\n",
       "    <tr>\n",
       "      <th>4</th>\n",
       "      <td>test_4</td>\n",
       "      <td>[武山湖-LAK, 北江-RIV, 青林湖-LAK, 长江-RIV]</td>\n",
       "    </tr>\n",
       "  </tbody>\n",
       "</table>\n",
       "</div>"
      ],
      "text/plain": [
       "       id                                           entities\n",
       "0  test_0                               [临河区-LOC, 巴彦淖尔市-LOC]\n",
       "1  test_1                                           [汉江-RIV]\n",
       "2  test_2  [支流-TER, 七里川河-RIV, 红岩河-RIV, 嘴头镇-LOC, 白云乡-LOC, ...\n",
       "3  test_3                                 [七虎林河-RIV, 上游-TER]\n",
       "4  test_4                 [武山湖-LAK, 北江-RIV, 青林湖-LAK, 长江-RIV]"
      ]
     },
     "execution_count": 16,
     "metadata": {},
     "output_type": "execute_result"
    }
   ],
   "source": [
    "sub['entities'] = final\n",
    "sub.head()"
   ]
  },
  {
   "cell_type": "code",
   "execution_count": 17,
   "metadata": {},
   "outputs": [],
   "source": [
    "sub.to_json('baseline.json', orient='records', force_ascii=False)"
   ]
  },
  {
   "cell_type": "code",
   "execution_count": null,
   "metadata": {},
   "outputs": [],
   "source": []
  }
 ],
 "metadata": {
  "kernelspec": {
   "display_name": "Python 3",
   "language": "python",
   "name": "python3"
  },
  "language_info": {
   "codemirror_mode": {
    "name": "ipython",
    "version": 3
   },
   "file_extension": ".py",
   "mimetype": "text/x-python",
   "name": "python",
   "nbconvert_exporter": "python",
   "pygments_lexer": "ipython3",
   "version": "3.7.4"
  }
 },
 "nbformat": 4,
 "nbformat_minor": 2
}
